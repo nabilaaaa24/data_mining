{
  "nbformat": 4,
  "nbformat_minor": 0,
  "metadata": {
    "colab": {
      "provenance": [],
      "include_colab_link": true
    },
    "kernelspec": {
      "name": "python3",
      "display_name": "Python 3"
    },
    "language_info": {
      "name": "python"
    }
  },
  "cells": [
    {
      "cell_type": "markdown",
      "metadata": {
        "id": "view-in-github",
        "colab_type": "text"
      },
      "source": [
        "<a href=\"https://colab.research.google.com/github/nabilaaaa24/data_mining/blob/main/Latihan_Modul_1.ipynb\" target=\"_parent\"><img src=\"https://colab.research.google.com/assets/colab-badge.svg\" alt=\"Open In Colab\"/></a>"
      ]
    },
    {
      "cell_type": "markdown",
      "source": [
        "<h2>Latihan Prak. Data Mining<h2>\n",
        "<h4>Modul 1<h2>"
      ],
      "metadata": {
        "id": "Q4BsaaBrcDvK"
      }
    },
    {
      "cell_type": "markdown",
      "source": [
        "1. Buatlah sebuah list dengan 5 buah angka acak antara 1 sampai 10."
      ],
      "metadata": {
        "id": "jQ7cZG6abKop"
      }
    },
    {
      "cell_type": "code",
      "execution_count": null,
      "metadata": {
        "id": "ktOZe8EBayeq",
        "outputId": "074092cc-aeb4-4045-96a2-935619c6a4b9",
        "colab": {
          "base_uri": "https://localhost:8080/"
        }
      },
      "outputs": [
        {
          "output_type": "stream",
          "name": "stdout",
          "text": [
            "List angka acak antara 1-10: [4, 7, 9, 8, 2]\n"
          ]
        }
      ],
      "source": [
        "# Tulis kode disini\n",
        "import random\n",
        "\n",
        "list1 = [random.randint(1, 10) for _ in range(5)]\n",
        "print(\"List angka acak antara 1-10:\", list1)"
      ]
    },
    {
      "cell_type": "markdown",
      "source": [
        "2. Ubah list tersebut menjadi tuple."
      ],
      "metadata": {
        "id": "x5KYNYnybPXx"
      }
    },
    {
      "cell_type": "code",
      "source": [
        "# Tulis kode disini\n",
        "import random\n",
        "\n",
        "list1 = [random.randint(1, 10) for _ in range(5)]\n",
        "tuple1 = tuple(list1)\n",
        "\n",
        "print(\"Hasil tuple:\", tuple1)"
      ],
      "metadata": {
        "id": "7Y5fH08fbiiS",
        "outputId": "b53d7661-1dfe-4216-ad30-70d20ba2acb4",
        "colab": {
          "base_uri": "https://localhost:8080/"
        }
      },
      "execution_count": null,
      "outputs": [
        {
          "output_type": "stream",
          "name": "stdout",
          "text": [
            "Hasil tuple: (7, 2, 8, 10, 4)\n"
          ]
        }
      ]
    },
    {
      "cell_type": "markdown",
      "source": [
        "3. Tambahkan angka acak lainnya ke dalam tuple (ingat bahwa tuple tidak bisa diubah, jadi anda harus membuat tuple baru)."
      ],
      "metadata": {
        "id": "Q7s48fPLbRyp"
      }
    },
    {
      "cell_type": "code",
      "source": [
        "# Tulis kode disini\n",
        "import random\n",
        "\n",
        "list1 = [random.randint(1, 10) for _ in range(5)]\n",
        "tuple1 = tuple(list1)\n",
        "\n",
        "print(\"Tuple awal:\", tuple1)\n",
        "\n",
        "tuple2 = random.randint(1, 10)\n",
        "tuple_baru = tuple1 + (tuple2,)\n",
        "\n",
        "print(\"setelah menambahkan angka acak baru:\", tuple_baru)\n"
      ],
      "metadata": {
        "id": "DFMFlqlTbjNb",
        "outputId": "c37e3671-1056-42fb-ba02-137cc5841459",
        "colab": {
          "base_uri": "https://localhost:8080/"
        }
      },
      "execution_count": null,
      "outputs": [
        {
          "output_type": "stream",
          "name": "stdout",
          "text": [
            "Tuple awal: (7, 1, 8, 4, 8)\n",
            "setelah menambahkan angka acak baru: (7, 1, 8, 4, 8, 9)\n"
          ]
        }
      ]
    },
    {
      "cell_type": "markdown",
      "source": [
        "4. Buatlah sebuah fungsi yang menerima tuple angka dan mengembalikan tuple dengan elemen yang terurut."
      ],
      "metadata": {
        "id": "BWuKwL9QbUrI"
      }
    },
    {
      "cell_type": "code",
      "source": [
        "import random\n",
        "\n",
        "def urutkan_tuple(tup):\n",
        "    tuple_urut = tuple(sorted(tup))\n",
        "    return tuple_urut\n",
        "\n",
        "list1 = [random.randint(1, 10) for _ in range(5)]\n",
        "tuple1 = tuple(list1)\n",
        "tuple2 = urutkan_tuple(tuple1)\n",
        "\n",
        "print(tuple1)\n",
        "print(\"setelah diurutkan:\", tuple2)"
      ],
      "metadata": {
        "id": "E30vjMaEbjsN",
        "colab": {
          "base_uri": "https://localhost:8080/"
        },
        "outputId": "f75320d7-9c83-4979-9910-a14a1ea0b1ed"
      },
      "execution_count": null,
      "outputs": [
        {
          "output_type": "stream",
          "name": "stdout",
          "text": [
            "(3, 5, 8, 7, 6)\n",
            "setelah diurutkan: (3, 5, 6, 7, 8)\n"
          ]
        }
      ]
    },
    {
      "cell_type": "markdown",
      "source": [
        "5. Buat array Numpy 1D yang berisi 5 bilangan bulat acak dari 1 sampai 10."
      ],
      "metadata": {
        "id": "dC8vnk4QbXT4"
      }
    },
    {
      "cell_type": "code",
      "source": [
        "# Tulis kode disini\n",
        "import numpy as np\n",
        "\n",
        "array_random = np.random.randint(1, 10, size=5)\n",
        "print(array_random)\n"
      ],
      "metadata": {
        "id": "F8AvrBElbkRS",
        "colab": {
          "base_uri": "https://localhost:8080/"
        },
        "outputId": "3a326496-ade0-4a1e-bb3b-183237ea7390"
      },
      "execution_count": null,
      "outputs": [
        {
          "output_type": "stream",
          "name": "stdout",
          "text": [
            "[9 2 3 6 6]\n"
          ]
        }
      ]
    },
    {
      "cell_type": "markdown",
      "source": [
        "6. Hitung mean, median, dan standar deviasi dari array tersebut.\n",
        "Code Jawabannya:"
      ],
      "metadata": {
        "id": "4RXWfEuvba5Y"
      }
    },
    {
      "cell_type": "code",
      "source": [
        "# Tulis kode disini\n",
        "import numpy as np\n",
        "\n",
        "array_random = np.random.randint(1, 10, size=5)\n",
        "print(array_random)\n",
        "\n",
        "# mean\n",
        "mean_value = np.mean(array_random)\n",
        "print(\"Mean:\", mean_value)\n",
        "\n",
        "# median\n",
        "median_value = np.median(array_random)\n",
        "print(\"Median:\", median_value)\n",
        "\n",
        "# standar deviasi\n",
        "std_deviation_value = np.std(array_random)\n",
        "print(\"Standar Deviasi:\", std_deviation_value)"
      ],
      "metadata": {
        "id": "sDpL_VPcbk1G",
        "colab": {
          "base_uri": "https://localhost:8080/"
        },
        "outputId": "bd61e185-bb18-4326-d199-76495cd15fc2"
      },
      "execution_count": null,
      "outputs": [
        {
          "output_type": "stream",
          "name": "stdout",
          "text": [
            "[9 9 7 6 9]\n",
            "Mean: 8.0\n",
            "Median: 9.0\n",
            "Standar Deviasi: 1.2649110640673518\n"
          ]
        }
      ]
    },
    {
      "cell_type": "markdown",
      "source": [
        "7. Buatlah array 2D (3x3) yang berisi angka acak."
      ],
      "metadata": {
        "id": "X-cl__r8bdP3"
      }
    },
    {
      "cell_type": "code",
      "source": [
        "# Tulis kode disini\n",
        "import numpy as np\n",
        "\n",
        "array_2d = np.random.randint(1, 100, size=(3, 3))\n",
        "print(array_2d)\n"
      ],
      "metadata": {
        "id": "HRH_xNKublYR",
        "colab": {
          "base_uri": "https://localhost:8080/"
        },
        "outputId": "bab1fbb3-fe7b-4601-ae98-6fdd989e0d67"
      },
      "execution_count": null,
      "outputs": [
        {
          "output_type": "stream",
          "name": "stdout",
          "text": [
            "[[20 71  1]\n",
            " [28  1 46]\n",
            " [13 71 32]]\n"
          ]
        }
      ]
    },
    {
      "cell_type": "markdown",
      "source": [
        "8. Datar atau flatten array 2D tersebut menjadi array 1D."
      ],
      "metadata": {
        "id": "yXyFAwe8bp6w"
      }
    },
    {
      "cell_type": "code",
      "source": [
        "# Tulis kode disini\n",
        "import numpy as np\n",
        "\n",
        "array_2d = np.random.randint(1, 100, size=(3, 3))\n",
        "print(array_2d)\n",
        "array_1d = np.hstack(array_2d)\n",
        "print(\"\\nArray 1D:\")\n",
        "print(array_1d)"
      ],
      "metadata": {
        "id": "RhQhKG6UbqlF",
        "colab": {
          "base_uri": "https://localhost:8080/"
        },
        "outputId": "4aec7b96-9e12-4315-bc62-85934d4cd4c4"
      },
      "execution_count": null,
      "outputs": [
        {
          "output_type": "stream",
          "name": "stdout",
          "text": [
            "[[ 2 81  1]\n",
            " [29  1 92]\n",
            " [46 49 48]]\n",
            "\n",
            "Array 1D:\n",
            "[ 2 81  1 29  1 92 46 49 48]\n"
          ]
        }
      ]
    },
    {
      "cell_type": "markdown",
      "source": [
        "9. Buatlah DataFrame Pandas sederhana yang berisi data nama, usia, dan kota dari 3 orang."
      ],
      "metadata": {
        "id": "eTVHBnMxbuCP"
      }
    },
    {
      "cell_type": "code",
      "source": [
        "# Tulis kode disini\n",
        "import pandas as pd\n",
        "\n",
        "data = {\n",
        "    'Nama': ['Nabila', 'Yoongi', 'Minghao'],\n",
        "    'Usia': [20, 30, 27],\n",
        "    'Kota': ['Mojokerto', 'Daegu', 'Anshan']\n",
        "}\n",
        "\n",
        "df = pd.DataFrame(data)\n",
        "print(df)"
      ],
      "metadata": {
        "id": "8yMFp_uQb_bF",
        "colab": {
          "base_uri": "https://localhost:8080/"
        },
        "outputId": "78133c74-9938-491b-bd90-2de9114e708f"
      },
      "execution_count": null,
      "outputs": [
        {
          "output_type": "stream",
          "name": "stdout",
          "text": [
            "      Nama  Usia       Kota\n",
            "0   Nabila    20  Mojokerto\n",
            "1   Yoongi    30      Daegu\n",
            "2  Minghao    27     Anshan\n"
          ]
        }
      ]
    },
    {
      "cell_type": "markdown",
      "source": [
        "10. Tambahkan kolom 'Pekerjaan' ke DataFrame tersebut."
      ],
      "metadata": {
        "id": "kQ24dANgbyx6"
      }
    },
    {
      "cell_type": "code",
      "source": [
        "# Tulis kode disini\n",
        "import pandas as pd\n",
        "\n",
        "data = {\n",
        "    'Nama': ['Nabila', 'Yoongi', 'Minghao'],\n",
        "    'Usia': [20, 30, 27],\n",
        "    'Kota': ['Mojokerto', 'Daegu', 'Anshan']\n",
        "}\n",
        "\n",
        "df = pd.DataFrame(data)\n",
        "\n",
        "df['Pekerjaan'] = ['Student', 'Rapper', 'Singer']\n",
        "\n",
        "print(df)"
      ],
      "metadata": {
        "id": "EhdTkYJIcAqA",
        "colab": {
          "base_uri": "https://localhost:8080/"
        },
        "outputId": "a6591ce9-6da8-48de-bfed-47a8352ab88a"
      },
      "execution_count": null,
      "outputs": [
        {
          "output_type": "stream",
          "name": "stdout",
          "text": [
            "      Nama  Usia       Kota Pekerjaan\n",
            "0   Nabila    20  Mojokerto   Student\n",
            "1   Yoongi    30      Daegu    Rapper\n",
            "2  Minghao    27     Anshan    Singer\n"
          ]
        }
      ]
    },
    {
      "cell_type": "markdown",
      "source": [
        "11. Ubahlah usia salah satu nama menjadi 31."
      ],
      "metadata": {
        "id": "B4aY8ZaAb1h8"
      }
    },
    {
      "cell_type": "code",
      "source": [
        "# Tulis kode disini\n",
        "import pandas as pd\n",
        "\n",
        "data = {\n",
        "    'Nama': ['Nabila', 'Yoongi', 'Minghao'],\n",
        "    'Usia': [20, 30, 27],\n",
        "    'Kota': ['Mojokerto', 'Daegu', 'Anshan']\n",
        "}\n",
        "\n",
        "df = pd.DataFrame(data)\n",
        "\n",
        "df['Pekerjaan'] = ['Student', 'Rapper', 'Singer']\n",
        "print(df)\n",
        "\n",
        "df.loc[df['Nama'] == 'Yoongi', 'Usia'] = 31\n",
        "print(\"\\nDataFrame setelah perubahan:\")\n",
        "print(df)"
      ],
      "metadata": {
        "id": "jOF8L4L0cBOM",
        "colab": {
          "base_uri": "https://localhost:8080/"
        },
        "outputId": "8276d205-6927-45a3-9236-d5ddaba3f91b"
      },
      "execution_count": null,
      "outputs": [
        {
          "output_type": "stream",
          "name": "stdout",
          "text": [
            "      Nama  Usia       Kota Pekerjaan\n",
            "0   Nabila    20  Mojokerto   Student\n",
            "1   Yoongi    30      Daegu    Rapper\n",
            "2  Minghao    27     Anshan    Singer\n",
            "\n",
            "DataFrame setelah perubahan:\n",
            "      Nama  Usia       Kota Pekerjaan\n",
            "0   Nabila    20  Mojokerto   Student\n",
            "1   Yoongi    31      Daegu    Rapper\n",
            "2  Minghao    27     Anshan    Singer\n"
          ]
        }
      ]
    },
    {
      "cell_type": "markdown",
      "source": [
        "12. Urutkan DataFrame berdasarkan usia dari yang muda ke yang tua.\n",
        "Code Jawabannya:"
      ],
      "metadata": {
        "id": "ZoEOO-Rkb7YB"
      }
    },
    {
      "cell_type": "code",
      "source": [
        "# Tulis kode disini\n",
        "import pandas as pd\n",
        "\n",
        "data = {\n",
        "    'Nama': ['Nabila', 'Yoongi', 'Minghao'],\n",
        "    'Usia': [20, 30, 27],\n",
        "    'Kota': ['Mojokerto', 'Daegu', 'Anshan']\n",
        "}\n",
        "\n",
        "df = pd.DataFrame(data)\n",
        "\n",
        "df['Pekerjaan'] = ['Student', 'Rapper', 'Singer']\n",
        "\n",
        "print(df)\n",
        "\n",
        "df_sorted = df.sort_values(by='Usia')\n",
        "print(\"\\nDataFrame setelah pengurutan berdasarkan usia:\")\n",
        "print(df_sorted)"
      ],
      "metadata": {
        "id": "fy1IPKpCcBow",
        "colab": {
          "base_uri": "https://localhost:8080/"
        },
        "outputId": "2b8dcf21-338b-4d19-b6b4-002870c39eca"
      },
      "execution_count": null,
      "outputs": [
        {
          "output_type": "stream",
          "name": "stdout",
          "text": [
            "      Nama  Usia       Kota Pekerjaan\n",
            "0   Nabila    20  Mojokerto   Student\n",
            "1   Yoongi    30      Daegu    Rapper\n",
            "2  Minghao    27     Anshan    Singer\n",
            "\n",
            "DataFrame setelah pengurutan berdasarkan usia:\n",
            "      Nama  Usia       Kota Pekerjaan\n",
            "0   Nabila    20  Mojokerto   Student\n",
            "2  Minghao    27     Anshan    Singer\n",
            "1   Yoongi    30      Daegu    Rapper\n"
          ]
        }
      ]
    }
  ]
}