{
  "nbformat": 4,
  "nbformat_minor": 0,
  "metadata": {
    "colab": {
      "provenance": [],
      "authorship_tag": "ABX9TyOJOOQODxXPFGyDA0pocGOt",
      "include_colab_link": true
    },
    "kernelspec": {
      "name": "python3",
      "display_name": "Python 3"
    },
    "language_info": {
      "name": "python"
    }
  },
  "cells": [
    {
      "cell_type": "markdown",
      "metadata": {
        "id": "view-in-github",
        "colab_type": "text"
      },
      "source": [
        "<a href=\"https://colab.research.google.com/github/nabilaaaa24/data_mining/blob/main/Praktikum_Modul_1.ipynb\" target=\"_parent\"><img src=\"https://colab.research.google.com/assets/colab-badge.svg\" alt=\"Open In Colab\"/></a>"
      ]
    },
    {
      "cell_type": "markdown",
      "source": [
        "1. Buatlah sebuah fungsi yang menerima list sebagai parameter dan melakukan operasi berikut:\n",
        "\n",
        "\n",
        "*   Menambahkan 4 elemen numerik acak.\n",
        "*   Menghapus elemen di indeks ganjil.\n",
        "*   Membalik urutan elemen dalam list.\n",
        "*   Menggandakan elemen pertama dan menambahkannya ke akhir list.\n",
        "*   Mencari dan menghapus elemen dengan nilai terkecil dalam list.\n",
        "*   Mengurutkan list secara ascending.\n",
        "\n",
        "\n",
        "\n"
      ],
      "metadata": {
        "id": "YOl1QoP69wqp"
      }
    },
    {
      "cell_type": "code",
      "execution_count": 1,
      "metadata": {
        "colab": {
          "base_uri": "https://localhost:8080/"
        },
        "id": "q5Xq1DNy9Lf0",
        "outputId": "e2fa4776-803c-4f2d-bce2-5e4be99a7fd4"
      },
      "outputs": [
        {
          "output_type": "stream",
          "name": "stdout",
          "text": [
            "a. Menambahkan elemen acak: [8, 9, 4, 1, 10, 38, 43, 48, 37]\n",
            "b. Menghapus elemen di indeks ganjil: [8, 4, 10, 43, 37]\n",
            "c. Membalik urutan elemen: [37, 43, 10, 4, 8]\n",
            "d. Menggandakan elemen pertama dan menambahkan di akhir list: [37, 43, 10, 4, 8, 74]\n",
            "e. Menghapus elemen dengan nilai terkecil: [37, 43, 10, 8, 74]\n",
            "f. Mengurutkan secara ascending: [8, 10, 37, 43, 74]\n",
            "Hasil manipulasi list: [8, 10, 37, 43, 74]\n"
          ]
        }
      ],
      "source": [
        "import random\n",
        "\n",
        "def list_manipulation(input_list):\n",
        "    # Menambahkan 4 elemen numerik acak.\n",
        "    for _ in range(4):\n",
        "        input_list.append(random.randint(1, 100))\n",
        "    print(\"a. Menambahkan elemen acak:\", input_list)\n",
        "\n",
        "    # Menghapus elemen di indeks ganjil.\n",
        "    input_list = [element for index, element in enumerate(input_list) if index % 2 == 0]\n",
        "    print(\"b. Menghapus elemen di indeks ganjil:\", input_list)\n",
        "\n",
        "    # Membalik urutan elemen dalam list.\n",
        "    input_list.reverse()\n",
        "    print(\"c. Membalik urutan elemen:\", input_list)\n",
        "\n",
        "    # Menggandakan elemen pertama dan menambahkannya ke akhir list.\n",
        "    first_element = input_list[0]\n",
        "    input_list.append(first_element * 2)\n",
        "    print(\"d. Menggandakan elemen pertama dan menambahkan di akhir list:\", input_list)\n",
        "\n",
        "    # Mencari dan menghapus elemen dengan nilai terkecil dalam list.\n",
        "    min_value = min(input_list)\n",
        "    input_list = [element for element in input_list if element != min_value]\n",
        "    print(\"e. Menghapus elemen dengan nilai terkecil:\", input_list)\n",
        "\n",
        "    # Mengurutkan list secara ascending.\n",
        "    input_list.sort()\n",
        "    print(\"f. Mengurutkan secara ascending:\", input_list)\n",
        "\n",
        "    return input_list\n",
        "\n",
        "awal = [random.randint(1, 10) for _ in range(5)]\n",
        "result = list_manipulation(awal)\n",
        "print(\"Hasil manipulasi list:\", result)\n"
      ]
    },
    {
      "cell_type": "markdown",
      "source": [
        "2. Buatlah sebuah tuple yang berisi pasangan nilai mata pelajaran dan skor ujian siswa, buatlah sebuah fungsi yang mampu melakukan hal-hal berikut:\n",
        "\n",
        "\n",
        "*   Menghapus entri yang tidak lengkap atau memiliki nilai kosong.\n",
        "*   Menghilangkan entri dengan mata pelajaran yang sama, menyisakan hanya skor tertinggi.\n",
        "*   Menghitung jumlah total entri yang tersisa.\n",
        "*   Mengurutkan entri berdasarkan skor dari yang terendah hingga tertinggi.\n",
        "\n",
        "Gunakan data berikut untuk membuat tuple:"
      ],
      "metadata": {
        "id": "Jbfeeh7KCzr0"
      }
    },
    {
      "cell_type": "code",
      "source": [
        "scores = [\n",
        "    ('Matematika', '85'),\n",
        "    ('Biologi', ''),\n",
        "    ('Kimia', '90'),\n",
        "    ('Fisika', '80'),\n",
        "    ('Matematika', '88'),\n",
        "    ('Biologi', '95'),\n",
        "    ('', '100'),\n",
        "    ('Fisika', '82'),\n",
        "]"
      ],
      "metadata": {
        "id": "pAFxO8WrF2Y-"
      },
      "execution_count": null,
      "outputs": []
    },
    {
      "cell_type": "code",
      "source": [
        "def process_scores(scores):\n",
        "    # Menghapus entri yang tidak lengkap atau memiliki nilai kosong\n",
        "    scores = tuple((subject, score) for subject, score in scores if subject != '' and score != '')\n",
        "\n",
        "    # Menghilangkan entri dengan mata pelajaran yang sama, menyimpan skor tertinggi untuk setiap mata pelajaran\n",
        "    subject_scores = {}\n",
        "    for subject, score in scores:\n",
        "        if subject not in subject_scores or int(score) > int(subject_scores[subject]):\n",
        "            subject_scores[subject] = score\n",
        "\n",
        "    filtered_scores = tuple(subject_scores.items())\n",
        "\n",
        "    # Menghitung jumlah total entri yang tersisa\n",
        "    total_entries = len(filtered_scores)\n",
        "\n",
        "    # Mengurutkan entri berdasarkan skor dari yang terendah hingga tertinggi\n",
        "    sorted_scores = tuple(sorted(filtered_scores, key=lambda x: int(x[1])))\n",
        "\n",
        "    return {\n",
        "        'filtered_scores': filtered_scores,\n",
        "        'total_entries': total_entries,\n",
        "        'sorted_scores': sorted_scores\n",
        "    }\n",
        "\n",
        "\n",
        "result = process_scores(scores)\n",
        "\n",
        "print(\"Filtered Scores:\", result['filtered_scores'])\n",
        "print(\"Total Entries:\", result['total_entries'])\n",
        "print(\"Sorted Scores:\", result['sorted_scores'])\n"
      ],
      "metadata": {
        "colab": {
          "base_uri": "https://localhost:8080/"
        },
        "id": "40F5qMpjC_qB",
        "outputId": "ea8c6c72-a856-4c97-c4c5-00a2ad70830a"
      },
      "execution_count": null,
      "outputs": [
        {
          "output_type": "stream",
          "name": "stdout",
          "text": [
            "Filtered Scores: (('Matematika', '88'), ('Kimia', '90'), ('Fisika', '82'), ('Biologi', '95'))\n",
            "Total Entries: 4\n",
            "Sorted Scores: (('Fisika', '82'), ('Matematika', '88'), ('Kimia', '90'), ('Biologi', '95'))\n"
          ]
        }
      ]
    },
    {
      "cell_type": "markdown",
      "source": [
        "3. Gunakan NumPy untuk membuat sebuah array dengan elemen numerik acak. Kemudian lakukan :\n",
        "\n",
        "*   Normalisasi array tersebut menggunakan Min-Max Scaling.\n",
        "*   Urutkan array tersebut berdasarkan nilai terbesar ke terkecil."
      ],
      "metadata": {
        "id": "y1YB0cuUJ7c1"
      }
    },
    {
      "cell_type": "code",
      "source": [
        "import numpy as np\n",
        "\n",
        "# Array dengan elemen numerik acak\n",
        "array_random = np.random.rand(5) * 100\n",
        "\n",
        "# Normalisasi menggunakan Min-Max Scaling\n",
        "min_value = np.min(array_random)\n",
        "max_value = np.max(array_random)\n",
        "\n",
        "normalized_array = (array_random - min_value) / (max_value - min_value)\n",
        "\n",
        "print(\"Array Numerik Acak:\")\n",
        "print(array_random)\n",
        "\n",
        "print(\"\\nNormalisasi Array menggunakan Min-Max Scaling:\")\n",
        "print(normalized_array)\n",
        "\n",
        "# Urutkan array dari nilai terbesar ke terkecil\n",
        "sorted_array = np.sort(array_random)[::-1]\n",
        "\n",
        "print(\"\\nArray Dari Nilai Terbesar ke Terkecil:\")\n",
        "print(sorted_array)\n"
      ],
      "metadata": {
        "colab": {
          "base_uri": "https://localhost:8080/"
        },
        "id": "Rvk5Ugt-J9W3",
        "outputId": "8b19c7e5-be84-4c42-ad04-a5db5d41d729"
      },
      "execution_count": null,
      "outputs": [
        {
          "output_type": "stream",
          "name": "stdout",
          "text": [
            "Array Numerik Acak:\n",
            "[ 2.94413492 70.62002053 57.23185119 13.80495034 54.93602569]\n",
            "\n",
            "Normalisasi Array menggunakan Min-Max Scaling:\n",
            "[0.         1.         0.80217223 0.1604828  0.7682484 ]\n",
            "\n",
            "Array Dari Nilai Terbesar ke Terkecil:\n",
            "[70.62002053 57.23185119 54.93602569 13.80495034  2.94413492]\n"
          ]
        }
      ]
    },
    {
      "cell_type": "markdown",
      "source": [
        "Buatlah satu dataframe yang terdiri dari 10 baris x 6 kolom, dengan informasi sebagai berikut:"
      ],
      "metadata": {
        "id": "eqBpLtWHOYNM"
      }
    },
    {
      "cell_type": "code",
      "source": [
        "import pandas as pd\n",
        "\n",
        "data = {\n",
        "    'Merk Mobil': ['Toyota', 'Honda', 'Suzuki', 'Hyundai', 'Mazda', 'Ford', 'BMW', 'Mercendes', 'Mitsubishi', 'Nissan'],\n",
        "    'Kota Penjualan': ['Jakarta', 'Bandung', 'Jakarta', 'Surabaya', 'Bandung', 'Jakarta', 'Surabaya', 'Jakarta', 'Bandung', 'Surabaya'],\n",
        "    'Harga (Juta Rupiah)': [200, 150, 120, 180, 220, 250, 500, 550, 200, 170],\n",
        "    'Tahun': ['2015', '2016', '2017', '2018', '2015', '2016', '2017', '2018', '2015', '2016'],\n",
        "    'Status': ['Sold', 'Sold', 'Available', 'Sold', 'Available', 'Sold', 'Sold', 'Available', 'Sold', 'Available']\n",
        "}\n",
        "\n",
        "df = pd.DataFrame(data)\n",
        "print(df)"
      ],
      "metadata": {
        "colab": {
          "base_uri": "https://localhost:8080/"
        },
        "id": "-A9rdOFxMmDn",
        "outputId": "14f87cff-ed10-4bb1-d43d-d05491790bef"
      },
      "execution_count": null,
      "outputs": [
        {
          "output_type": "stream",
          "name": "stdout",
          "text": [
            "   Merk Mobil Kota Penjualan  Harga (Juta Rupiah) Tahun     Status\n",
            "0      Toyota        Jakarta                  200  2015       Sold\n",
            "1       Honda        Bandung                  150  2016       Sold\n",
            "2      Suzuki        Jakarta                  120  2017  Available\n",
            "3     Hyundai       Surabaya                  180  2018       Sold\n",
            "4       Mazda        Bandung                  220  2015  Available\n",
            "5        Ford        Jakarta                  250  2016       Sold\n",
            "6         BMW       Surabaya                  500  2017       Sold\n",
            "7   Mercendes        Jakarta                  550  2018  Available\n",
            "8  Mitsubishi        Bandung                  200  2015       Sold\n",
            "9      Nissan       Surabaya                  170  2016  Available\n"
          ]
        }
      ]
    },
    {
      "cell_type": "markdown",
      "source": [
        "Kemudian lakukan analisis berikut pada DataFrame tersebut :\n",
        "\n",
        "\n",
        "*   Tampilkan ringkasan statistik deskriptif untuk kolom numerik yang mencakup nilai minimum, maksimum, jumlah, rata-rata, standar deviasi, serta nilai kuartil 1, 2, dan 3.\n",
        "*   Tentukan Top 3 Kota dengan jumlah mobil terjual terbanyak.\n",
        "*   Tampilkan mobil yang memiliki harga yang sama.\n",
        "*   Buatlah sebuah kolom baru yang berisi kategori 'Murah', 'Sedang', atau 'Mahal' berdasarkan harga. Kategorisasi didasarkan pada aturan: harga di bawah kuartil 1 dikategorikan sebagai 'Murah', harga di atas kuartil 3 dikategorikan sebagai 'Mahal', dan sisanya dikategorikan sebagai 'Sedang'\n"
      ],
      "metadata": {
        "id": "gA04QA0gOlpY"
      }
    },
    {
      "cell_type": "code",
      "source": [
        "import pandas as pd\n",
        "\n",
        "# Membuat DataFrame\n",
        "data = {\n",
        "    'Merk Mobil': ['Toyota', 'Honda', 'Suzuki', 'Hyundai', 'Mazda', 'Ford', 'BMW', 'Mercendes', 'Mitsubishi', 'Nissan'],\n",
        "    'Kota Penjualan': ['Jakarta', 'Bandung', 'Jakarta', 'Surabaya', 'Bandung', 'Jakarta', 'Surabaya', 'Jakarta', 'Bandung', 'Surabaya'],\n",
        "    'Harga (Juta Rupiah)': [200, 150, 120, 180, 220, 250, 500, 550, 200, 170],\n",
        "    'Tahun': ['2015', '2016', '2017', '2018', '2015', '2016', '2017', '2018', '2015', '2016'],\n",
        "    'Status': ['Sold', 'Sold', 'Available', 'Sold', 'Available', 'Sold', 'Sold', 'Available', 'Sold', 'Available']\n",
        "}\n",
        "\n",
        "df = pd.DataFrame(data)\n",
        "print(df)\n",
        "\n",
        "# Tampilkan ringkasan statistik deskriptif\n",
        "descriptive_stats = df.describe(include='all')\n",
        "\n",
        "# Tentukan Top 3 Kota dengan jumlah mobil terjual terbanyak\n",
        "top_kota_terjual = df[df['Status'] == 'Sold']['Kota Penjualan'].value_counts().nlargest(3)\n",
        "\n",
        "# Tampilkan mobil yang memiliki harga yang sama\n",
        "harga_sama = df[df.duplicated(['Harga (Juta Rupiah)'], keep=False)]\n",
        "\n",
        "# Buat kolom baru untuk kategori harga\n",
        "quartiles = df['Harga (Juta Rupiah)'].quantile([0.25, 0.5, 0.75])\n",
        "def kategori_harga(harga):\n",
        "    if harga < quartiles[0.25]:\n",
        "        return 'Murah'\n",
        "    elif harga > quartiles[0.75]:\n",
        "        return 'Mahal'\n",
        "    else:\n",
        "        return 'Sedang'\n",
        "\n",
        "df['Kategori Harga'] = df['Harga (Juta Rupiah)'].apply(kategori_harga)\n",
        "\n",
        "print(\"\\n\\na. Ringkasan Statistik Deskriptif:\")\n",
        "print(descriptive_stats)\n",
        "print(\"\\n\\nb. Top 3 Kota dengan jumlah mobil terjual terbanyak:\")\n",
        "print(top_kota_terjual)\n",
        "print(\"\\n\\nc. Mobil dengan harga yang sama:\")\n",
        "print(harga_sama)\n",
        "print(\"\\n\\nd. DataFrame dengan kolom Kategori Harga:\")\n",
        "print(df)\n"
      ],
      "metadata": {
        "colab": {
          "base_uri": "https://localhost:8080/"
        },
        "id": "25iZNWvvO5un",
        "outputId": "84238eac-da9f-4d5c-8a27-beb9e6ce0396"
      },
      "execution_count": null,
      "outputs": [
        {
          "output_type": "stream",
          "name": "stdout",
          "text": [
            "   Merk Mobil Kota Penjualan  Harga (Juta Rupiah) Tahun     Status\n",
            "0      Toyota        Jakarta                  200  2015       Sold\n",
            "1       Honda        Bandung                  150  2016       Sold\n",
            "2      Suzuki        Jakarta                  120  2017  Available\n",
            "3     Hyundai       Surabaya                  180  2018       Sold\n",
            "4       Mazda        Bandung                  220  2015  Available\n",
            "5        Ford        Jakarta                  250  2016       Sold\n",
            "6         BMW       Surabaya                  500  2017       Sold\n",
            "7   Mercendes        Jakarta                  550  2018  Available\n",
            "8  Mitsubishi        Bandung                  200  2015       Sold\n",
            "9      Nissan       Surabaya                  170  2016  Available\n",
            "\n",
            "\n",
            "a. Ringkasan Statistik Deskriptif:\n",
            "       Merk Mobil Kota Penjualan  Harga (Juta Rupiah) Tahun Status\n",
            "count          10             10            10.000000    10     10\n",
            "unique         10              3                  NaN     4      2\n",
            "top        Toyota        Jakarta                  NaN  2015   Sold\n",
            "freq            1              4                  NaN     3      6\n",
            "mean          NaN            NaN           254.000000   NaN    NaN\n",
            "std           NaN            NaN           147.738508   NaN    NaN\n",
            "min           NaN            NaN           120.000000   NaN    NaN\n",
            "25%           NaN            NaN           172.500000   NaN    NaN\n",
            "50%           NaN            NaN           200.000000   NaN    NaN\n",
            "75%           NaN            NaN           242.500000   NaN    NaN\n",
            "max           NaN            NaN           550.000000   NaN    NaN\n",
            "\n",
            "\n",
            "b. Top 3 Kota dengan jumlah mobil terjual terbanyak:\n",
            "Jakarta     2\n",
            "Bandung     2\n",
            "Surabaya    2\n",
            "Name: Kota Penjualan, dtype: int64\n",
            "\n",
            "\n",
            "c. Mobil dengan harga yang sama:\n",
            "   Merk Mobil Kota Penjualan  Harga (Juta Rupiah) Tahun Status\n",
            "0      Toyota        Jakarta                  200  2015   Sold\n",
            "8  Mitsubishi        Bandung                  200  2015   Sold\n",
            "\n",
            "\n",
            "d. DataFrame dengan kolom Kategori Harga:\n",
            "   Merk Mobil Kota Penjualan  Harga (Juta Rupiah) Tahun     Status  \\\n",
            "0      Toyota        Jakarta                  200  2015       Sold   \n",
            "1       Honda        Bandung                  150  2016       Sold   \n",
            "2      Suzuki        Jakarta                  120  2017  Available   \n",
            "3     Hyundai       Surabaya                  180  2018       Sold   \n",
            "4       Mazda        Bandung                  220  2015  Available   \n",
            "5        Ford        Jakarta                  250  2016       Sold   \n",
            "6         BMW       Surabaya                  500  2017       Sold   \n",
            "7   Mercendes        Jakarta                  550  2018  Available   \n",
            "8  Mitsubishi        Bandung                  200  2015       Sold   \n",
            "9      Nissan       Surabaya                  170  2016  Available   \n",
            "\n",
            "  Kategori Harga  \n",
            "0         Sedang  \n",
            "1          Murah  \n",
            "2          Murah  \n",
            "3         Sedang  \n",
            "4         Sedang  \n",
            "5          Mahal  \n",
            "6          Mahal  \n",
            "7          Mahal  \n",
            "8         Sedang  \n",
            "9          Murah  \n"
          ]
        }
      ]
    }
  ]
}