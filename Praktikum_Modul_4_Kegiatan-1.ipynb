{
  "nbformat": 4,
  "nbformat_minor": 0,
  "metadata": {
    "colab": {
      "provenance": [],
      "mount_file_id": "1-Oc1CT5_Ct6BprwvfYVpbTEyDY8XIsFn",
      "authorship_tag": "ABX9TyM6BA0DXZLLJNqIj3GeR05H",
      "include_colab_link": true
    },
    "kernelspec": {
      "name": "python3",
      "display_name": "Python 3"
    },
    "language_info": {
      "name": "python"
    }
  },
  "cells": [
    {
      "cell_type": "markdown",
      "metadata": {
        "id": "view-in-github",
        "colab_type": "text"
      },
      "source": [
        "<a href=\"https://colab.research.google.com/github/nabilaaaa24/data_mining/blob/main/Praktikum_Modul_4_Kegiatan-1.ipynb\" target=\"_parent\"><img src=\"https://colab.research.google.com/assets/colab-badge.svg\" alt=\"Open In Colab\"/></a>"
      ]
    },
    {
      "cell_type": "code",
      "execution_count": 22,
      "metadata": {
        "id": "xqBMPS_uBz4B"
      },
      "outputs": [],
      "source": [
        "from sklearn.model_selection import train_test_split\n",
        "from sklearn.preprocessing import LabelEncoder\n",
        "from sklearn.metrics import classification_report\n",
        "from tensorflow.keras.models import Sequential\n",
        "from tensorflow.keras.layers import Flatten, Dense\n",
        "from tensorflow.keras.optimizers import SGD\n",
        "import numpy as np\n",
        "import cv2\n",
        "import glob\n",
        "import matplotlib.pyplot as plt\n",
        "import zipfile"
      ]
    },
    {
      "cell_type": "code",
      "source": [
        "zip_path = '/content/drive/MyDrive/Dataset_daun.zip'\n",
        "extr_dir = '/content/drive/MyDrive/ExtractedData_Daun'\n",
        "\n",
        "with zipfile.ZipFile(zip_path, 'r') as zip_ref:\n",
        "    # Extract all the contents to the specified directory\n",
        "    zip_ref.extractall(extr_dir)\n",
        "\n",
        "print(\"Zip file extracted successfully.\")"
      ],
      "metadata": {
        "colab": {
          "base_uri": "https://localhost:8080/"
        },
        "id": "4z_ZpDznB-hW",
        "outputId": "40e18c7d-f517-4b2b-cfc8-21805d448293"
      },
      "execution_count": 23,
      "outputs": [
        {
          "output_type": "stream",
          "name": "stdout",
          "text": [
            "Zip file extracted successfully.\n"
          ]
        }
      ]
    },
    {
      "cell_type": "markdown",
      "source": [
        "Ganti working directory"
      ],
      "metadata": {
        "id": "K0rrOMJCCwTz"
      }
    },
    {
      "cell_type": "code",
      "source": [
        "%cd /content/drive/MyDrive/ExtractedData_Daun"
      ],
      "metadata": {
        "colab": {
          "base_uri": "https://localhost:8080/"
        },
        "id": "fPpxsAHBCuRU",
        "outputId": "e7dc422a-b0e2-406d-c6a7-7ea4d62e155d"
      },
      "execution_count": 24,
      "outputs": [
        {
          "output_type": "stream",
          "name": "stdout",
          "text": [
            "/content/drive/MyDrive/ExtractedData_Daun\n"
          ]
        }
      ]
    },
    {
      "cell_type": "code",
      "source": [
        "! pwd"
      ],
      "metadata": {
        "colab": {
          "base_uri": "https://localhost:8080/"
        },
        "id": "Wp--0IjZC6Nk",
        "outputId": "2fb0b0ed-9746-4c57-f8f5-99e648f8ec6c"
      },
      "execution_count": 25,
      "outputs": [
        {
          "output_type": "stream",
          "name": "stdout",
          "text": [
            "/content/drive/MyDrive/ExtractedData_Daun\n"
          ]
        }
      ]
    },
    {
      "cell_type": "markdown",
      "source": [
        "## Load Dataset"
      ],
      "metadata": {
        "id": "2Vj6XXCWC-pf"
      }
    },
    {
      "cell_type": "code",
      "source": [
        "imagePaths = 'Dataset_daun/'\n",
        "label_list = ['Pepaya', 'Nangka']\n",
        "data = []\n",
        "labels = []"
      ],
      "metadata": {
        "id": "leUfNmTWC80p"
      },
      "execution_count": 26,
      "outputs": []
    },
    {
      "cell_type": "code",
      "source": [
        "for label in label_list:\n",
        "    for imagePath in glob.glob(imagePaths+label+'/*.jpg'):\n",
        "        print(imagePath)\n",
        "        image = cv2.imread(imagePath)\n",
        "        image = cv2.resize(image, (32, 32))\n",
        "        data.append(image)\n",
        "        labels.append(label)"
      ],
      "metadata": {
        "colab": {
          "base_uri": "https://localhost:8080/"
        },
        "id": "eQqkHWABDDqG",
        "outputId": "838eb1cc-dc7a-41cf-aeed-07f1e4368660"
      },
      "execution_count": 27,
      "outputs": [
        {
          "output_type": "stream",
          "name": "stdout",
          "text": [
            "Dataset_daun/Pepaya/001.jpg\n",
            "Dataset_daun/Pepaya/002.jpg\n",
            "Dataset_daun/Pepaya/003.jpg\n",
            "Dataset_daun/Pepaya/004.jpg\n",
            "Dataset_daun/Pepaya/005.jpg\n",
            "Dataset_daun/Pepaya/006.jpg\n",
            "Dataset_daun/Pepaya/007.jpg\n",
            "Dataset_daun/Pepaya/008.jpg\n",
            "Dataset_daun/Pepaya/009.jpg\n",
            "Dataset_daun/Pepaya/010.jpg\n",
            "Dataset_daun/Pepaya/011.jpg\n",
            "Dataset_daun/Pepaya/012.jpg\n",
            "Dataset_daun/Pepaya/013.jpg\n",
            "Dataset_daun/Pepaya/014.jpg\n",
            "Dataset_daun/Pepaya/015.jpg\n",
            "Dataset_daun/Pepaya/016.jpg\n",
            "Dataset_daun/Pepaya/017.jpg\n",
            "Dataset_daun/Pepaya/018.jpg\n",
            "Dataset_daun/Pepaya/019.jpg\n",
            "Dataset_daun/Pepaya/020.jpg\n",
            "Dataset_daun/Pepaya/021.jpg\n",
            "Dataset_daun/Pepaya/022.jpg\n",
            "Dataset_daun/Pepaya/023.jpg\n",
            "Dataset_daun/Pepaya/024.jpg\n",
            "Dataset_daun/Pepaya/025.jpg\n",
            "Dataset_daun/Pepaya/026.jpg\n",
            "Dataset_daun/Pepaya/027.jpg\n",
            "Dataset_daun/Pepaya/028.jpg\n",
            "Dataset_daun/Pepaya/029.jpg\n",
            "Dataset_daun/Pepaya/030.jpg\n",
            "Dataset_daun/Pepaya/031.jpg\n",
            "Dataset_daun/Pepaya/032.jpg\n",
            "Dataset_daun/Pepaya/033.jpg\n",
            "Dataset_daun/Pepaya/034.jpg\n",
            "Dataset_daun/Pepaya/035.jpg\n",
            "Dataset_daun/Pepaya/036.jpg\n",
            "Dataset_daun/Pepaya/037.jpg\n",
            "Dataset_daun/Pepaya/038.jpg\n",
            "Dataset_daun/Pepaya/039.jpg\n",
            "Dataset_daun/Pepaya/040.jpg\n",
            "Dataset_daun/Pepaya/041.jpg\n",
            "Dataset_daun/Pepaya/042.jpg\n",
            "Dataset_daun/Pepaya/043.jpg\n",
            "Dataset_daun/Pepaya/044.jpg\n",
            "Dataset_daun/Pepaya/045.jpg\n",
            "Dataset_daun/Pepaya/046.jpg\n",
            "Dataset_daun/Pepaya/047.jpg\n",
            "Dataset_daun/Pepaya/048.jpg\n",
            "Dataset_daun/Pepaya/049.jpg\n",
            "Dataset_daun/Pepaya/050.jpg\n",
            "Dataset_daun/Pepaya/051.jpg\n",
            "Dataset_daun/Pepaya/052.jpg\n",
            "Dataset_daun/Pepaya/053.jpg\n",
            "Dataset_daun/Pepaya/054.jpg\n",
            "Dataset_daun/Pepaya/055.jpg\n",
            "Dataset_daun/Pepaya/056.jpg\n",
            "Dataset_daun/Pepaya/057.jpg\n",
            "Dataset_daun/Pepaya/058.jpg\n",
            "Dataset_daun/Pepaya/059.jpg\n",
            "Dataset_daun/Pepaya/060.jpg\n",
            "Dataset_daun/Pepaya/061.jpg\n",
            "Dataset_daun/Pepaya/062.jpg\n",
            "Dataset_daun/Pepaya/063.jpg\n",
            "Dataset_daun/Pepaya/064.jpg\n",
            "Dataset_daun/Pepaya/065.jpg\n",
            "Dataset_daun/Pepaya/066.jpg\n",
            "Dataset_daun/Pepaya/067.jpg\n",
            "Dataset_daun/Pepaya/068.jpg\n",
            "Dataset_daun/Pepaya/069.jpg\n",
            "Dataset_daun/Pepaya/070.jpg\n",
            "Dataset_daun/Pepaya/071.jpg\n",
            "Dataset_daun/Pepaya/072.jpg\n",
            "Dataset_daun/Pepaya/073.jpg\n",
            "Dataset_daun/Pepaya/074.jpg\n",
            "Dataset_daun/Pepaya/075.jpg\n",
            "Dataset_daun/Pepaya/076.jpg\n",
            "Dataset_daun/Pepaya/077.jpg\n",
            "Dataset_daun/Pepaya/078.jpg\n",
            "Dataset_daun/Pepaya/079.jpg\n",
            "Dataset_daun/Pepaya/080.jpg\n",
            "Dataset_daun/Pepaya/081.jpg\n",
            "Dataset_daun/Pepaya/082.jpg\n",
            "Dataset_daun/Pepaya/083.jpg\n",
            "Dataset_daun/Pepaya/084.jpg\n",
            "Dataset_daun/Pepaya/085.jpg\n",
            "Dataset_daun/Pepaya/086.jpg\n",
            "Dataset_daun/Pepaya/087.jpg\n",
            "Dataset_daun/Pepaya/088.jpg\n",
            "Dataset_daun/Pepaya/089.jpg\n",
            "Dataset_daun/Pepaya/090.jpg\n",
            "Dataset_daun/Pepaya/091.jpg\n",
            "Dataset_daun/Pepaya/092.jpg\n",
            "Dataset_daun/Pepaya/093.jpg\n",
            "Dataset_daun/Pepaya/094.jpg\n",
            "Dataset_daun/Pepaya/095.jpg\n",
            "Dataset_daun/Pepaya/096.jpg\n",
            "Dataset_daun/Pepaya/097.jpg\n",
            "Dataset_daun/Pepaya/098.jpg\n",
            "Dataset_daun/Pepaya/099.jpg\n",
            "Dataset_daun/Pepaya/100.jpg\n",
            "Dataset_daun/Pepaya/101.jpg\n",
            "Dataset_daun/Pepaya/102.jpg\n",
            "Dataset_daun/Pepaya/103.jpg\n",
            "Dataset_daun/Pepaya/104.jpg\n",
            "Dataset_daun/Pepaya/105.jpg\n",
            "Dataset_daun/Pepaya/106.jpg\n",
            "Dataset_daun/Pepaya/107.jpg\n",
            "Dataset_daun/Pepaya/108.jpg\n",
            "Dataset_daun/Pepaya/109.jpg\n",
            "Dataset_daun/Pepaya/110.jpg\n",
            "Dataset_daun/Pepaya/111.jpg\n",
            "Dataset_daun/Pepaya/112.jpg\n",
            "Dataset_daun/Pepaya/113.jpg\n",
            "Dataset_daun/Pepaya/114.jpg\n",
            "Dataset_daun/Pepaya/115.jpg\n",
            "Dataset_daun/Pepaya/116.jpg\n",
            "Dataset_daun/Pepaya/117.jpg\n",
            "Dataset_daun/Pepaya/118.jpg\n",
            "Dataset_daun/Pepaya/119.jpg\n",
            "Dataset_daun/Pepaya/120.jpg\n",
            "Dataset_daun/Pepaya/121.jpg\n",
            "Dataset_daun/Pepaya/122.jpg\n",
            "Dataset_daun/Pepaya/123.jpg\n",
            "Dataset_daun/Pepaya/124.jpg\n",
            "Dataset_daun/Pepaya/125.jpg\n",
            "Dataset_daun/Pepaya/126.jpg\n",
            "Dataset_daun/Pepaya/127.jpg\n",
            "Dataset_daun/Pepaya/128.jpg\n",
            "Dataset_daun/Pepaya/129.jpg\n",
            "Dataset_daun/Pepaya/130.jpg\n",
            "Dataset_daun/Pepaya/131.jpg\n",
            "Dataset_daun/Pepaya/132.jpg\n",
            "Dataset_daun/Pepaya/133.jpg\n",
            "Dataset_daun/Pepaya/134.jpg\n",
            "Dataset_daun/Pepaya/135.jpg\n",
            "Dataset_daun/Pepaya/136.jpg\n",
            "Dataset_daun/Pepaya/137.jpg\n",
            "Dataset_daun/Pepaya/138.jpg\n",
            "Dataset_daun/Pepaya/139.jpg\n",
            "Dataset_daun/Pepaya/140.jpg\n",
            "Dataset_daun/Pepaya/141.jpg\n",
            "Dataset_daun/Pepaya/142.jpg\n",
            "Dataset_daun/Pepaya/143.jpg\n",
            "Dataset_daun/Pepaya/144.jpg\n",
            "Dataset_daun/Pepaya/145.jpg\n",
            "Dataset_daun/Pepaya/146.jpg\n",
            "Dataset_daun/Pepaya/147.jpg\n",
            "Dataset_daun/Pepaya/148.jpg\n",
            "Dataset_daun/Pepaya/149.jpg\n",
            "Dataset_daun/Pepaya/150.jpg\n",
            "Dataset_daun/Pepaya/151.jpg\n",
            "Dataset_daun/Pepaya/152.jpg\n",
            "Dataset_daun/Pepaya/153.jpg\n",
            "Dataset_daun/Pepaya/154.jpg\n",
            "Dataset_daun/Pepaya/155.jpg\n",
            "Dataset_daun/Pepaya/156.jpg\n",
            "Dataset_daun/Pepaya/157.jpg\n",
            "Dataset_daun/Pepaya/158.jpg\n",
            "Dataset_daun/Pepaya/159.jpg\n",
            "Dataset_daun/Pepaya/160.jpg\n",
            "Dataset_daun/Pepaya/161.jpg\n",
            "Dataset_daun/Pepaya/162.jpg\n",
            "Dataset_daun/Pepaya/163.jpg\n",
            "Dataset_daun/Pepaya/164.jpg\n",
            "Dataset_daun/Pepaya/165.jpg\n",
            "Dataset_daun/Pepaya/166.jpg\n",
            "Dataset_daun/Pepaya/167.jpg\n",
            "Dataset_daun/Pepaya/168.jpg\n",
            "Dataset_daun/Pepaya/169.jpg\n",
            "Dataset_daun/Pepaya/170.jpg\n",
            "Dataset_daun/Nangka/001.jpg\n",
            "Dataset_daun/Nangka/002.jpg\n",
            "Dataset_daun/Nangka/003.jpg\n",
            "Dataset_daun/Nangka/004.jpg\n",
            "Dataset_daun/Nangka/005.jpg\n",
            "Dataset_daun/Nangka/006.jpg\n",
            "Dataset_daun/Nangka/007.jpg\n",
            "Dataset_daun/Nangka/008.jpg\n",
            "Dataset_daun/Nangka/009.jpg\n",
            "Dataset_daun/Nangka/010.jpg\n",
            "Dataset_daun/Nangka/011.jpg\n",
            "Dataset_daun/Nangka/012.jpg\n",
            "Dataset_daun/Nangka/013.jpg\n",
            "Dataset_daun/Nangka/014.jpg\n",
            "Dataset_daun/Nangka/015.jpg\n",
            "Dataset_daun/Nangka/016.jpg\n",
            "Dataset_daun/Nangka/017.jpg\n",
            "Dataset_daun/Nangka/018.jpg\n",
            "Dataset_daun/Nangka/019.jpg\n",
            "Dataset_daun/Nangka/020.jpg\n",
            "Dataset_daun/Nangka/021.jpg\n",
            "Dataset_daun/Nangka/022.jpg\n",
            "Dataset_daun/Nangka/023.jpg\n",
            "Dataset_daun/Nangka/024.jpg\n",
            "Dataset_daun/Nangka/025.jpg\n",
            "Dataset_daun/Nangka/026.jpg\n",
            "Dataset_daun/Nangka/027.jpg\n",
            "Dataset_daun/Nangka/028.jpg\n",
            "Dataset_daun/Nangka/029.jpg\n",
            "Dataset_daun/Nangka/030.jpg\n",
            "Dataset_daun/Nangka/031.jpg\n",
            "Dataset_daun/Nangka/032.jpg\n",
            "Dataset_daun/Nangka/033.jpg\n",
            "Dataset_daun/Nangka/034.jpg\n",
            "Dataset_daun/Nangka/035.jpg\n",
            "Dataset_daun/Nangka/036.jpg\n",
            "Dataset_daun/Nangka/037.jpg\n",
            "Dataset_daun/Nangka/038.jpg\n",
            "Dataset_daun/Nangka/039.jpg\n",
            "Dataset_daun/Nangka/040.jpg\n",
            "Dataset_daun/Nangka/041.jpg\n",
            "Dataset_daun/Nangka/042.jpg\n",
            "Dataset_daun/Nangka/043.jpg\n",
            "Dataset_daun/Nangka/044.jpg\n",
            "Dataset_daun/Nangka/045.jpg\n",
            "Dataset_daun/Nangka/046.jpg\n",
            "Dataset_daun/Nangka/047.jpg\n",
            "Dataset_daun/Nangka/048.jpg\n",
            "Dataset_daun/Nangka/049.jpg\n",
            "Dataset_daun/Nangka/050.jpg\n",
            "Dataset_daun/Nangka/051.jpg\n",
            "Dataset_daun/Nangka/052.jpg\n",
            "Dataset_daun/Nangka/053.jpg\n",
            "Dataset_daun/Nangka/054.jpg\n",
            "Dataset_daun/Nangka/055.jpg\n",
            "Dataset_daun/Nangka/056.jpg\n",
            "Dataset_daun/Nangka/057.jpg\n",
            "Dataset_daun/Nangka/058.jpg\n",
            "Dataset_daun/Nangka/059.jpg\n",
            "Dataset_daun/Nangka/060.jpg\n",
            "Dataset_daun/Nangka/061.jpg\n",
            "Dataset_daun/Nangka/062.jpg\n",
            "Dataset_daun/Nangka/063.jpg\n",
            "Dataset_daun/Nangka/064.jpg\n",
            "Dataset_daun/Nangka/065.jpg\n",
            "Dataset_daun/Nangka/066.jpg\n",
            "Dataset_daun/Nangka/067.jpg\n",
            "Dataset_daun/Nangka/068.jpg\n",
            "Dataset_daun/Nangka/069.jpg\n",
            "Dataset_daun/Nangka/070.jpg\n",
            "Dataset_daun/Nangka/071.jpg\n",
            "Dataset_daun/Nangka/072.jpg\n",
            "Dataset_daun/Nangka/073.jpg\n",
            "Dataset_daun/Nangka/074.jpg\n",
            "Dataset_daun/Nangka/075.jpg\n",
            "Dataset_daun/Nangka/076.jpg\n",
            "Dataset_daun/Nangka/077.jpg\n",
            "Dataset_daun/Nangka/078.jpg\n",
            "Dataset_daun/Nangka/079.jpg\n",
            "Dataset_daun/Nangka/080.jpg\n",
            "Dataset_daun/Nangka/081.jpg\n",
            "Dataset_daun/Nangka/082.jpg\n",
            "Dataset_daun/Nangka/083.jpg\n",
            "Dataset_daun/Nangka/084.jpg\n",
            "Dataset_daun/Nangka/085.jpg\n",
            "Dataset_daun/Nangka/086.jpg\n",
            "Dataset_daun/Nangka/087.jpg\n",
            "Dataset_daun/Nangka/088.jpg\n",
            "Dataset_daun/Nangka/089.jpg\n",
            "Dataset_daun/Nangka/090.jpg\n",
            "Dataset_daun/Nangka/091.jpg\n",
            "Dataset_daun/Nangka/092.jpg\n",
            "Dataset_daun/Nangka/093.jpg\n",
            "Dataset_daun/Nangka/094.jpg\n",
            "Dataset_daun/Nangka/095.jpg\n",
            "Dataset_daun/Nangka/096.jpg\n",
            "Dataset_daun/Nangka/097.jpg\n",
            "Dataset_daun/Nangka/098.jpg\n",
            "Dataset_daun/Nangka/099.jpg\n",
            "Dataset_daun/Nangka/100.jpg\n",
            "Dataset_daun/Nangka/101.jpg\n",
            "Dataset_daun/Nangka/102.jpg\n",
            "Dataset_daun/Nangka/103.jpg\n",
            "Dataset_daun/Nangka/104.jpg\n",
            "Dataset_daun/Nangka/105.jpg\n",
            "Dataset_daun/Nangka/106.jpg\n",
            "Dataset_daun/Nangka/107.jpg\n",
            "Dataset_daun/Nangka/108.jpg\n",
            "Dataset_daun/Nangka/109.jpg\n",
            "Dataset_daun/Nangka/110.jpg\n",
            "Dataset_daun/Nangka/111.jpg\n",
            "Dataset_daun/Nangka/112.jpg\n",
            "Dataset_daun/Nangka/113.jpg\n",
            "Dataset_daun/Nangka/114.jpg\n",
            "Dataset_daun/Nangka/115.jpg\n",
            "Dataset_daun/Nangka/116.jpg\n",
            "Dataset_daun/Nangka/117.jpg\n",
            "Dataset_daun/Nangka/118.jpg\n",
            "Dataset_daun/Nangka/119.jpg\n",
            "Dataset_daun/Nangka/120.jpg\n",
            "Dataset_daun/Nangka/121.jpg\n",
            "Dataset_daun/Nangka/122.jpg\n",
            "Dataset_daun/Nangka/123.jpg\n",
            "Dataset_daun/Nangka/124.jpg\n",
            "Dataset_daun/Nangka/125.jpg\n",
            "Dataset_daun/Nangka/126.jpg\n",
            "Dataset_daun/Nangka/127.jpg\n",
            "Dataset_daun/Nangka/128.jpg\n",
            "Dataset_daun/Nangka/129.jpg\n",
            "Dataset_daun/Nangka/130.jpg\n",
            "Dataset_daun/Nangka/131.jpg\n",
            "Dataset_daun/Nangka/132.jpg\n",
            "Dataset_daun/Nangka/133.jpg\n",
            "Dataset_daun/Nangka/134.jpg\n",
            "Dataset_daun/Nangka/135.jpg\n",
            "Dataset_daun/Nangka/136.jpg\n",
            "Dataset_daun/Nangka/137.jpg\n",
            "Dataset_daun/Nangka/138.jpg\n",
            "Dataset_daun/Nangka/139.jpg\n",
            "Dataset_daun/Nangka/140.jpg\n",
            "Dataset_daun/Nangka/141.jpg\n",
            "Dataset_daun/Nangka/142.jpg\n",
            "Dataset_daun/Nangka/143.jpg\n",
            "Dataset_daun/Nangka/144.jpg\n",
            "Dataset_daun/Nangka/145.jpg\n",
            "Dataset_daun/Nangka/146.jpg\n",
            "Dataset_daun/Nangka/147.jpg\n",
            "Dataset_daun/Nangka/148.jpg\n",
            "Dataset_daun/Nangka/149.jpg\n",
            "Dataset_daun/Nangka/150.jpg\n",
            "Dataset_daun/Nangka/151.jpg\n",
            "Dataset_daun/Nangka/152.jpg\n",
            "Dataset_daun/Nangka/153.jpg\n",
            "Dataset_daun/Nangka/154.jpg\n",
            "Dataset_daun/Nangka/155.jpg\n",
            "Dataset_daun/Nangka/156.jpg\n",
            "Dataset_daun/Nangka/157.jpg\n",
            "Dataset_daun/Nangka/158.jpg\n",
            "Dataset_daun/Nangka/159.jpg\n",
            "Dataset_daun/Nangka/160.jpg\n",
            "Dataset_daun/Nangka/161.jpg\n",
            "Dataset_daun/Nangka/162.jpg\n",
            "Dataset_daun/Nangka/163.jpg\n",
            "Dataset_daun/Nangka/164.jpg\n",
            "Dataset_daun/Nangka/165.jpg\n",
            "Dataset_daun/Nangka/166.jpg\n",
            "Dataset_daun/Nangka/167.jpg\n",
            "Dataset_daun/Nangka/168.jpg\n",
            "Dataset_daun/Nangka/169.jpg\n",
            "Dataset_daun/Nangka/170.jpg\n"
          ]
        }
      ]
    },
    {
      "cell_type": "code",
      "source": [
        "np.array(data).shape"
      ],
      "metadata": {
        "colab": {
          "base_uri": "https://localhost:8080/"
        },
        "id": "3QVm676XDHtp",
        "outputId": "7cfb3aec-bcf1-4806-8338-e9f05f9dc2c1"
      },
      "execution_count": 28,
      "outputs": [
        {
          "output_type": "execute_result",
          "data": {
            "text/plain": [
              "(340, 32, 32, 3)"
            ]
          },
          "metadata": {},
          "execution_count": 28
        }
      ]
    },
    {
      "cell_type": "markdown",
      "source": [
        "## Feature Extraction"
      ],
      "metadata": {
        "id": "_fQoKbHHDQfV"
      }
    },
    {
      "cell_type": "code",
      "source": [
        "data = np.array(data, dtype='float') / 255.0\n",
        "labels = np.array(labels)"
      ],
      "metadata": {
        "id": "Cr3u8j-XDOgF"
      },
      "execution_count": 29,
      "outputs": []
    },
    {
      "cell_type": "code",
      "source": [
        "print(labels)"
      ],
      "metadata": {
        "colab": {
          "base_uri": "https://localhost:8080/"
        },
        "id": "rfqmPihDDU5t",
        "outputId": "f6772925-8212-423e-ef2f-c275fb83feb6"
      },
      "execution_count": 30,
      "outputs": [
        {
          "output_type": "stream",
          "name": "stdout",
          "text": [
            "['Pepaya' 'Pepaya' 'Pepaya' 'Pepaya' 'Pepaya' 'Pepaya' 'Pepaya' 'Pepaya'\n",
            " 'Pepaya' 'Pepaya' 'Pepaya' 'Pepaya' 'Pepaya' 'Pepaya' 'Pepaya' 'Pepaya'\n",
            " 'Pepaya' 'Pepaya' 'Pepaya' 'Pepaya' 'Pepaya' 'Pepaya' 'Pepaya' 'Pepaya'\n",
            " 'Pepaya' 'Pepaya' 'Pepaya' 'Pepaya' 'Pepaya' 'Pepaya' 'Pepaya' 'Pepaya'\n",
            " 'Pepaya' 'Pepaya' 'Pepaya' 'Pepaya' 'Pepaya' 'Pepaya' 'Pepaya' 'Pepaya'\n",
            " 'Pepaya' 'Pepaya' 'Pepaya' 'Pepaya' 'Pepaya' 'Pepaya' 'Pepaya' 'Pepaya'\n",
            " 'Pepaya' 'Pepaya' 'Pepaya' 'Pepaya' 'Pepaya' 'Pepaya' 'Pepaya' 'Pepaya'\n",
            " 'Pepaya' 'Pepaya' 'Pepaya' 'Pepaya' 'Pepaya' 'Pepaya' 'Pepaya' 'Pepaya'\n",
            " 'Pepaya' 'Pepaya' 'Pepaya' 'Pepaya' 'Pepaya' 'Pepaya' 'Pepaya' 'Pepaya'\n",
            " 'Pepaya' 'Pepaya' 'Pepaya' 'Pepaya' 'Pepaya' 'Pepaya' 'Pepaya' 'Pepaya'\n",
            " 'Pepaya' 'Pepaya' 'Pepaya' 'Pepaya' 'Pepaya' 'Pepaya' 'Pepaya' 'Pepaya'\n",
            " 'Pepaya' 'Pepaya' 'Pepaya' 'Pepaya' 'Pepaya' 'Pepaya' 'Pepaya' 'Pepaya'\n",
            " 'Pepaya' 'Pepaya' 'Pepaya' 'Pepaya' 'Pepaya' 'Pepaya' 'Pepaya' 'Pepaya'\n",
            " 'Pepaya' 'Pepaya' 'Pepaya' 'Pepaya' 'Pepaya' 'Pepaya' 'Pepaya' 'Pepaya'\n",
            " 'Pepaya' 'Pepaya' 'Pepaya' 'Pepaya' 'Pepaya' 'Pepaya' 'Pepaya' 'Pepaya'\n",
            " 'Pepaya' 'Pepaya' 'Pepaya' 'Pepaya' 'Pepaya' 'Pepaya' 'Pepaya' 'Pepaya'\n",
            " 'Pepaya' 'Pepaya' 'Pepaya' 'Pepaya' 'Pepaya' 'Pepaya' 'Pepaya' 'Pepaya'\n",
            " 'Pepaya' 'Pepaya' 'Pepaya' 'Pepaya' 'Pepaya' 'Pepaya' 'Pepaya' 'Pepaya'\n",
            " 'Pepaya' 'Pepaya' 'Pepaya' 'Pepaya' 'Pepaya' 'Pepaya' 'Pepaya' 'Pepaya'\n",
            " 'Pepaya' 'Pepaya' 'Pepaya' 'Pepaya' 'Pepaya' 'Pepaya' 'Pepaya' 'Pepaya'\n",
            " 'Pepaya' 'Pepaya' 'Pepaya' 'Pepaya' 'Pepaya' 'Pepaya' 'Pepaya' 'Pepaya'\n",
            " 'Pepaya' 'Pepaya' 'Nangka' 'Nangka' 'Nangka' 'Nangka' 'Nangka' 'Nangka'\n",
            " 'Nangka' 'Nangka' 'Nangka' 'Nangka' 'Nangka' 'Nangka' 'Nangka' 'Nangka'\n",
            " 'Nangka' 'Nangka' 'Nangka' 'Nangka' 'Nangka' 'Nangka' 'Nangka' 'Nangka'\n",
            " 'Nangka' 'Nangka' 'Nangka' 'Nangka' 'Nangka' 'Nangka' 'Nangka' 'Nangka'\n",
            " 'Nangka' 'Nangka' 'Nangka' 'Nangka' 'Nangka' 'Nangka' 'Nangka' 'Nangka'\n",
            " 'Nangka' 'Nangka' 'Nangka' 'Nangka' 'Nangka' 'Nangka' 'Nangka' 'Nangka'\n",
            " 'Nangka' 'Nangka' 'Nangka' 'Nangka' 'Nangka' 'Nangka' 'Nangka' 'Nangka'\n",
            " 'Nangka' 'Nangka' 'Nangka' 'Nangka' 'Nangka' 'Nangka' 'Nangka' 'Nangka'\n",
            " 'Nangka' 'Nangka' 'Nangka' 'Nangka' 'Nangka' 'Nangka' 'Nangka' 'Nangka'\n",
            " 'Nangka' 'Nangka' 'Nangka' 'Nangka' 'Nangka' 'Nangka' 'Nangka' 'Nangka'\n",
            " 'Nangka' 'Nangka' 'Nangka' 'Nangka' 'Nangka' 'Nangka' 'Nangka' 'Nangka'\n",
            " 'Nangka' 'Nangka' 'Nangka' 'Nangka' 'Nangka' 'Nangka' 'Nangka' 'Nangka'\n",
            " 'Nangka' 'Nangka' 'Nangka' 'Nangka' 'Nangka' 'Nangka' 'Nangka' 'Nangka'\n",
            " 'Nangka' 'Nangka' 'Nangka' 'Nangka' 'Nangka' 'Nangka' 'Nangka' 'Nangka'\n",
            " 'Nangka' 'Nangka' 'Nangka' 'Nangka' 'Nangka' 'Nangka' 'Nangka' 'Nangka'\n",
            " 'Nangka' 'Nangka' 'Nangka' 'Nangka' 'Nangka' 'Nangka' 'Nangka' 'Nangka'\n",
            " 'Nangka' 'Nangka' 'Nangka' 'Nangka' 'Nangka' 'Nangka' 'Nangka' 'Nangka'\n",
            " 'Nangka' 'Nangka' 'Nangka' 'Nangka' 'Nangka' 'Nangka' 'Nangka' 'Nangka'\n",
            " 'Nangka' 'Nangka' 'Nangka' 'Nangka' 'Nangka' 'Nangka' 'Nangka' 'Nangka'\n",
            " 'Nangka' 'Nangka' 'Nangka' 'Nangka' 'Nangka' 'Nangka' 'Nangka' 'Nangka'\n",
            " 'Nangka' 'Nangka' 'Nangka' 'Nangka' 'Nangka' 'Nangka' 'Nangka' 'Nangka'\n",
            " 'Nangka' 'Nangka' 'Nangka' 'Nangka']\n"
          ]
        }
      ]
    },
    {
      "cell_type": "code",
      "source": [
        "lb = LabelEncoder()\n",
        "labels = lb.fit_transform(labels)\n",
        "print(labels)"
      ],
      "metadata": {
        "colab": {
          "base_uri": "https://localhost:8080/"
        },
        "id": "9pzjAEpkDWRv",
        "outputId": "11fb6529-2457-45c0-d450-b8d528f04a32"
      },
      "execution_count": 31,
      "outputs": [
        {
          "output_type": "stream",
          "name": "stdout",
          "text": [
            "[1 1 1 1 1 1 1 1 1 1 1 1 1 1 1 1 1 1 1 1 1 1 1 1 1 1 1 1 1 1 1 1 1 1 1 1 1\n",
            " 1 1 1 1 1 1 1 1 1 1 1 1 1 1 1 1 1 1 1 1 1 1 1 1 1 1 1 1 1 1 1 1 1 1 1 1 1\n",
            " 1 1 1 1 1 1 1 1 1 1 1 1 1 1 1 1 1 1 1 1 1 1 1 1 1 1 1 1 1 1 1 1 1 1 1 1 1\n",
            " 1 1 1 1 1 1 1 1 1 1 1 1 1 1 1 1 1 1 1 1 1 1 1 1 1 1 1 1 1 1 1 1 1 1 1 1 1\n",
            " 1 1 1 1 1 1 1 1 1 1 1 1 1 1 1 1 1 1 1 1 1 1 0 0 0 0 0 0 0 0 0 0 0 0 0 0 0\n",
            " 0 0 0 0 0 0 0 0 0 0 0 0 0 0 0 0 0 0 0 0 0 0 0 0 0 0 0 0 0 0 0 0 0 0 0 0 0\n",
            " 0 0 0 0 0 0 0 0 0 0 0 0 0 0 0 0 0 0 0 0 0 0 0 0 0 0 0 0 0 0 0 0 0 0 0 0 0\n",
            " 0 0 0 0 0 0 0 0 0 0 0 0 0 0 0 0 0 0 0 0 0 0 0 0 0 0 0 0 0 0 0 0 0 0 0 0 0\n",
            " 0 0 0 0 0 0 0 0 0 0 0 0 0 0 0 0 0 0 0 0 0 0 0 0 0 0 0 0 0 0 0 0 0 0 0 0 0\n",
            " 0 0 0 0 0 0 0]\n"
          ]
        }
      ]
    },
    {
      "cell_type": "markdown",
      "source": [
        "## Split Dataset"
      ],
      "metadata": {
        "id": "qyP_v3FlDetr"
      }
    },
    {
      "cell_type": "code",
      "source": [
        "x_train, x_test, y_train, y_test = train_test_split(data, labels, test_size=0.2, random_state=42)\n",
        "print('Ukuran data train =', x_train.shape)\n",
        "print('Ukuran data test =', x_test.shape)"
      ],
      "metadata": {
        "colab": {
          "base_uri": "https://localhost:8080/"
        },
        "id": "Q05CTPZ5DcjM",
        "outputId": "4cae4312-5613-4796-8318-634ba4291719"
      },
      "execution_count": 32,
      "outputs": [
        {
          "output_type": "stream",
          "name": "stdout",
          "text": [
            "Ukuran data train = (272, 32, 32, 3)\n",
            "Ukuran data test = (68, 32, 32, 3)\n"
          ]
        }
      ]
    },
    {
      "cell_type": "markdown",
      "source": [
        "## Bangun Model"
      ],
      "metadata": {
        "id": "GRuXv2pWDkTK"
      }
    },
    {
      "cell_type": "code",
      "source": [
        "model = Sequential()\n",
        "model.add(Flatten(input_shape=(32,32,3)))\n",
        "model.add(Dense(1024, activation=\"relu\"))\n",
        "model.add(Dense(1024, activation=\"relu\"))\n",
        "model.add(Dense(1, activation=\"sigmoid\"))\n",
        "\n",
        "model.summary()"
      ],
      "metadata": {
        "colab": {
          "base_uri": "https://localhost:8080/"
        },
        "id": "Z-Efv1rRDipr",
        "outputId": "922a1869-a08f-4bfc-83a9-3827b16dd373"
      },
      "execution_count": 33,
      "outputs": [
        {
          "output_type": "stream",
          "name": "stdout",
          "text": [
            "Model: \"sequential_2\"\n",
            "_________________________________________________________________\n",
            " Layer (type)                Output Shape              Param #   \n",
            "=================================================================\n",
            " flatten_2 (Flatten)         (None, 3072)              0         \n",
            "                                                                 \n",
            " dense_6 (Dense)             (None, 1024)              3146752   \n",
            "                                                                 \n",
            " dense_7 (Dense)             (None, 1024)              1049600   \n",
            "                                                                 \n",
            " dense_8 (Dense)             (None, 1)                 1025      \n",
            "                                                                 \n",
            "=================================================================\n",
            "Total params: 4197377 (16.01 MB)\n",
            "Trainable params: 4197377 (16.01 MB)\n",
            "Non-trainable params: 0 (0.00 Byte)\n",
            "_________________________________________________________________\n"
          ]
        }
      ]
    },
    {
      "cell_type": "code",
      "source": [
        "# menentukan hyperparameter\n",
        "lr = 0.01\n",
        "max_epochs = 20\n",
        "opt_funct = SGD(learning_rate=lr)"
      ],
      "metadata": {
        "id": "wiCK91QcDnj2"
      },
      "execution_count": 34,
      "outputs": []
    },
    {
      "cell_type": "code",
      "source": [
        "# compile arsitektur yang telah dibuat\n",
        "model.compile(loss = 'binary_crossentropy',\n",
        "              optimizer = opt_funct,\n",
        "              metrics = ['accuracy'])"
      ],
      "metadata": {
        "id": "Ys2KJmszDwJG"
      },
      "execution_count": 35,
      "outputs": []
    },
    {
      "cell_type": "markdown",
      "source": [
        "## model ANN dengan Data Train"
      ],
      "metadata": {
        "id": "PyMwSkhcDzpG"
      }
    },
    {
      "cell_type": "code",
      "source": [
        "H = model.fit(x_train, y_train, validation_data=(x_test, y_test),\n",
        "          epochs=max_epochs, batch_size=32)"
      ],
      "metadata": {
        "colab": {
          "base_uri": "https://localhost:8080/"
        },
        "id": "C_OIN3KGDySP",
        "outputId": "e616e2c0-72c6-46ae-a185-ab676872b528"
      },
      "execution_count": 36,
      "outputs": [
        {
          "output_type": "stream",
          "name": "stdout",
          "text": [
            "Epoch 1/20\n",
            "9/9 [==============================] - 1s 90ms/step - loss: 0.7640 - accuracy: 0.5662 - val_loss: 0.9982 - val_accuracy: 0.5294\n",
            "Epoch 2/20\n",
            "9/9 [==============================] - 0s 37ms/step - loss: 0.6130 - accuracy: 0.6912 - val_loss: 0.5436 - val_accuracy: 0.6912\n",
            "Epoch 3/20\n",
            "9/9 [==============================] - 0s 41ms/step - loss: 0.5043 - accuracy: 0.7500 - val_loss: 0.5053 - val_accuracy: 0.7353\n",
            "Epoch 4/20\n",
            "9/9 [==============================] - 0s 33ms/step - loss: 0.4502 - accuracy: 0.8015 - val_loss: 0.5421 - val_accuracy: 0.7353\n",
            "Epoch 5/20\n",
            "9/9 [==============================] - 0s 37ms/step - loss: 0.5035 - accuracy: 0.7500 - val_loss: 0.9084 - val_accuracy: 0.5882\n",
            "Epoch 6/20\n",
            "9/9 [==============================] - 0s 32ms/step - loss: 0.4947 - accuracy: 0.7426 - val_loss: 0.5607 - val_accuracy: 0.6765\n",
            "Epoch 7/20\n",
            "9/9 [==============================] - 0s 38ms/step - loss: 0.4512 - accuracy: 0.7757 - val_loss: 0.6424 - val_accuracy: 0.6176\n",
            "Epoch 8/20\n",
            "9/9 [==============================] - 0s 38ms/step - loss: 0.3875 - accuracy: 0.8419 - val_loss: 0.4850 - val_accuracy: 0.7647\n",
            "Epoch 9/20\n",
            "9/9 [==============================] - 0s 39ms/step - loss: 0.3826 - accuracy: 0.8235 - val_loss: 0.4085 - val_accuracy: 0.7941\n",
            "Epoch 10/20\n",
            "9/9 [==============================] - 0s 49ms/step - loss: 0.3815 - accuracy: 0.8382 - val_loss: 0.4050 - val_accuracy: 0.7794\n",
            "Epoch 11/20\n",
            "9/9 [==============================] - 0s 48ms/step - loss: 0.3731 - accuracy: 0.8419 - val_loss: 0.7932 - val_accuracy: 0.6176\n",
            "Epoch 12/20\n",
            "9/9 [==============================] - 0s 51ms/step - loss: 0.3880 - accuracy: 0.8419 - val_loss: 0.3647 - val_accuracy: 0.8824\n",
            "Epoch 13/20\n",
            "9/9 [==============================] - 0s 52ms/step - loss: 0.4234 - accuracy: 0.7868 - val_loss: 0.4119 - val_accuracy: 0.7353\n",
            "Epoch 14/20\n",
            "9/9 [==============================] - 0s 50ms/step - loss: 0.3107 - accuracy: 0.9007 - val_loss: 0.4028 - val_accuracy: 0.7500\n",
            "Epoch 15/20\n",
            "9/9 [==============================] - 0s 49ms/step - loss: 0.2978 - accuracy: 0.8860 - val_loss: 0.3820 - val_accuracy: 0.8382\n",
            "Epoch 16/20\n",
            "9/9 [==============================] - 0s 48ms/step - loss: 0.4257 - accuracy: 0.8015 - val_loss: 0.3237 - val_accuracy: 0.9118\n",
            "Epoch 17/20\n",
            "9/9 [==============================] - 0s 49ms/step - loss: 0.2832 - accuracy: 0.8971 - val_loss: 0.3226 - val_accuracy: 0.8235\n",
            "Epoch 18/20\n",
            "9/9 [==============================] - 0s 50ms/step - loss: 0.2877 - accuracy: 0.8897 - val_loss: 0.3104 - val_accuracy: 0.9265\n",
            "Epoch 19/20\n",
            "9/9 [==============================] - 0s 32ms/step - loss: 0.3119 - accuracy: 0.8824 - val_loss: 0.2886 - val_accuracy: 0.9118\n",
            "Epoch 20/20\n",
            "9/9 [==============================] - 0s 35ms/step - loss: 0.4633 - accuracy: 0.7757 - val_loss: 0.2957 - val_accuracy: 0.9118\n"
          ]
        }
      ]
    },
    {
      "cell_type": "markdown",
      "source": [
        "## Evaluasi Model"
      ],
      "metadata": {
        "id": "S1RCz7F7EBoo"
      }
    },
    {
      "cell_type": "code",
      "source": [
        "N = np.arange(0, max_epochs)\n",
        "plt.style.use(\"ggplot\")\n",
        "plt.figure()\n",
        "plt.plot(N, H.history[\"loss\"], label=\"train_loss\")\n",
        "plt.plot(N, H.history[\"val_loss\"], label=\"val_loss\")\n",
        "plt.xlabel(\"Epoch #\")\n",
        "plt.legend()\n",
        "plt.show()"
      ],
      "metadata": {
        "colab": {
          "base_uri": "https://localhost:8080/",
          "height": 453
        },
        "id": "qX_8pH8kD7l2",
        "outputId": "db1f666b-74c5-455a-efbe-9bcb06445666"
      },
      "execution_count": 37,
      "outputs": [
        {
          "output_type": "display_data",
          "data": {
            "text/plain": [
              "<Figure size 640x480 with 1 Axes>"
            ],
            "image/png": "[encoded data removed]"
          },
          "metadata": {}
        }
      ]
    },
    {
      "cell_type": "code",
      "source": [
        "N = np.arange(0, max_epochs)\n",
        "plt.style.use(\"ggplot\")\n",
        "plt.figure()\n",
        "plt.plot(N, H.history[\"accuracy\"], label=\"train_acc\")\n",
        "plt.plot(N, H.history[\"val_accuracy\"], label=\"val_acc\")\n",
        "plt.xlabel(\"Epoch #\")\n",
        "plt.legend()\n",
        "plt.show()"
      ],
      "metadata": {
        "colab": {
          "base_uri": "https://localhost:8080/",
          "height": 453
        },
        "id": "xza2Bb7DEE3P",
        "outputId": "9c28d863-1537-42a8-8d4e-98569f8b807c"
      },
      "execution_count": 38,
      "outputs": [
        {
          "output_type": "display_data",
          "data": {
            "text/plain": [
              "<Figure size 640x480 with 1 Axes>"
            ],
            "image/png": "[encoded data removed]"
          },
          "metadata": {}
        }
      ]
    },
    {
      "cell_type": "code",
      "source": [
        "# menghitung nilai akurasi model terhadap data test\n",
        "predictions = model.predict(x_test, batch_size=32)\n",
        "target = (predictions > 0.5).astype(int)\n",
        "print(classification_report(y_test, target, target_names=label_list))"
      ],
      "metadata": {
        "colab": {
          "base_uri": "https://localhost:8080/"
        },
        "id": "6Fm3njsDEIbl",
        "outputId": "e767c02d-359e-4c76-838f-50d425b6ae2f"
      },
      "execution_count": 39,
      "outputs": [
        {
          "output_type": "stream",
          "name": "stdout",
          "text": [
            "3/3 [==============================] - 0s 9ms/step\n",
            "              precision    recall  f1-score   support\n",
            "\n",
            "      Pepaya       0.91      0.91      0.91        32\n",
            "      Nangka       0.92      0.92      0.92        36\n",
            "\n",
            "    accuracy                           0.91        68\n",
            "   macro avg       0.91      0.91      0.91        68\n",
            "weighted avg       0.91      0.91      0.91        68\n",
            "\n"
          ]
        }
      ]
    },
    {
      "cell_type": "code",
      "source": [
        "import matplotlib.pyplot as plt\n",
        "import numpy\n",
        "from sklearn import metrics\n",
        "\n",
        "confusion_matrix = metrics.confusion_matrix(y_test, target)\n",
        "cm_display = metrics.ConfusionMatrixDisplay(confusion_matrix = confusion_matrix,\n",
        "                                            display_labels = label_list)\n",
        "\n",
        "cm_display.plot()\n",
        "plt.show()"
      ],
      "metadata": {
        "colab": {
          "base_uri": "https://localhost:8080/",
          "height": 453
        },
        "id": "hsF5EOnHEK96",
        "outputId": "e8341fb2-fdce-4f17-a22b-dccb19d14c04"
      },
      "execution_count": 40,
      "outputs": [
        {
          "output_type": "display_data",
          "data": {
            "text/plain": [
              "<Figure size 640x480 with 2 Axes>"
            ],
            "image/png": "[encoded data removed]"
          },
          "metadata": {}
        }
      ]
    },
    {
      "cell_type": "code",
      "source": [],
      "metadata": {
        "id": "lD_leTRdExls"
      },
      "execution_count": null,
      "outputs": []
    }
  ]
}